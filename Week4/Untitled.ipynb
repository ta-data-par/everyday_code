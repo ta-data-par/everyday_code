{
 "cells": [
  {
   "cell_type": "code",
   "execution_count": 14,
   "metadata": {},
   "outputs": [],
   "source": [
    "import random\n",
    "import itertools\n",
    " \n",
    "def get_random_pairs(numbers):\n",
    "  # Generate all possible non-repeating pairs\n",
    "  pairs = list(itertools.combinations(numbers, 2))\n",
    " \n",
    "  # Randomly shuffle these pairs\n",
    "  random.shuffle(pairs)\n",
    "  return pairs"
   ]
  },
  {
   "cell_type": "code",
   "execution_count": 15,
   "metadata": {},
   "outputs": [
    {
     "data": {
      "text/plain": [
       "[(3, 6),\n",
       " (4, 6),\n",
       " (0, 5),\n",
       " (0, 3),\n",
       " (3, 4),\n",
       " (0, 6),\n",
       " (2, 5),\n",
       " (3, 5),\n",
       " (0, 2),\n",
       " (2, 4),\n",
       " (1, 4),\n",
       " (2, 3),\n",
       " (0, 4),\n",
       " (1, 3),\n",
       " (5, 6),\n",
       " (0, 1),\n",
       " (1, 6),\n",
       " (1, 5),\n",
       " (2, 6),\n",
       " (4, 5),\n",
       " (1, 2)]"
      ]
     },
     "execution_count": 15,
     "metadata": {},
     "output_type": "execute_result"
    }
   ],
   "source": [
    "get_random_pairs(range(7))"
   ]
  },
  {
   "cell_type": "code",
   "execution_count": null,
   "metadata": {},
   "outputs": [],
   "source": []
  }
 ],
 "metadata": {
  "kernelspec": {
   "display_name": "Python 3",
   "language": "python",
   "name": "python3"
  },
  "language_info": {
   "codemirror_mode": {
    "name": "ipython",
    "version": 3
   },
   "file_extension": ".py",
   "mimetype": "text/x-python",
   "name": "python",
   "nbconvert_exporter": "python",
   "pygments_lexer": "ipython3",
   "version": "3.6.8"
  }
 },
 "nbformat": 4,
 "nbformat_minor": 2
}
