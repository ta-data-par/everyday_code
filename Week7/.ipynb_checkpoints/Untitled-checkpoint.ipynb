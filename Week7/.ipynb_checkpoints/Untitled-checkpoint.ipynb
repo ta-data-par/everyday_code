{
 "cells": [
  {
   "cell_type": "markdown",
   "metadata": {
    "toc": true
   },
   "source": [
    "<h1>Table of Contents<span class=\"tocSkip\"></span></h1>\n",
    "<div class=\"toc\"><ul class=\"toc-item\"></ul></div>"
   ]
  },
  {
   "cell_type": "code",
   "execution_count": 3,
   "metadata": {},
   "outputs": [
    {
     "name": "stdout",
     "output_type": "stream",
     "text": [
      "6\n",
      "1\n"
     ]
    }
   ],
   "source": [
    "import numpy as np\n",
    "\n",
    "print(np.random.randint(8))\n",
    "print(np.random.randint(8))\n",
    "print(np.random.randint(8))\n",
    "print(np.random.randint(8))\n",
    "print(np.random.randint(8))\n",
    "print(np.random.randint(8))\n",
    "print(np.random.randint(8))\n",
    "print(np.random.randint(8))"
   ]
  },
  {
   "cell_type": "markdown",
   "metadata": {},
   "source": [
    "1 3 2 0\n",
    "6 7 4 5"
   ]
  },
  {
   "cell_type": "markdown",
   "metadata": {},
   "source": [
    "0.\tAmbre\n",
    "1.\tEléonore\n",
    "2.\tJordan\n",
    "3.\tJulia\n",
    "4.\tMarguerite\n",
    "5.\tMeriem\n",
    "6.\tThomas\n",
    "7.\tTimothée"
   ]
  },
  {
   "cell_type": "markdown",
   "metadata": {},
   "source": [
    "Score Team E     0.5"
   ]
  },
  {
   "cell_type": "markdown",
   "metadata": {},
   "source": [
    "Score Team T     4.625"
   ]
  },
  {
   "cell_type": "code",
   "execution_count": null,
   "metadata": {},
   "outputs": [],
   "source": []
  },
  {
   "cell_type": "markdown",
   "metadata": {},
   "source": [
    "Ironhack is starting a new Data Analytics Bootcamp and needs a new lead teacher and two TAs. There are 10 people interested in the position: 6 boys and 4 girls. What is the probability that only girls will be hired? \n",
    "\n"
   ]
  },
  {
   "cell_type": "code",
   "execution_count": null,
   "metadata": {},
   "outputs": [],
   "source": []
  },
  {
   "cell_type": "code",
   "execution_count": null,
   "metadata": {},
   "outputs": [],
   "source": []
  },
  {
   "cell_type": "markdown",
   "metadata": {},
   "source": [
    "By twist of fate, a bunch of crazy people become the first Data Analytics cohort. One day, Pau, one of the students, decides that he doesn’t want to do the daily lab and he copies the solutions from a classmate’s GitHub repository. However, he gets caught by the TAs!"
   ]
  },
  {
   "cell_type": "markdown",
   "metadata": {},
   "source": [
    "Claudia, the lead teacher, decides to punish Pau by shooting him with a Nerf gun. As she is a kind teacher, she decides to show him some sympathy. She tells him she will place two bullets into the six-chambered gun in successive order. She will spin the chamber, close it, and take one shot. If Pau is still unharmed, she will then either take another shot, or spin the chamber again before shooting.\n",
    "\n",
    "Pau steels himself as Claudia loads the chambers, spins the revolver, and pulls the trigger. Whew! It was blank. Then Claudia asks, \"Do you want me to pull the trigger again, or should I spin the chamber a second time before pulling the trigger?\"\n",
    "\n",
    "What should Pau choose?"
   ]
  },
  {
   "cell_type": "code",
   "execution_count": null,
   "metadata": {},
   "outputs": [],
   "source": []
  },
  {
   "cell_type": "code",
   "execution_count": null,
   "metadata": {},
   "outputs": [],
   "source": []
  },
  {
   "cell_type": "markdown",
   "metadata": {},
   "source": [
    "We have three boxes: the first has orange candies, the second has lemon candies and the third one has orange and lemon candies. Each box has one of the following labels: “Orange”, “Lemon” and “Mix”. We know that all the boxes are incorrectly labeled and we want to fix our mistake. How many candies do we have to take out of each box to fix our mistake?"
   ]
  },
  {
   "cell_type": "code",
   "execution_count": null,
   "metadata": {},
   "outputs": [],
   "source": []
  },
  {
   "cell_type": "markdown",
   "metadata": {},
   "source": [
    "When two dice are rolled, find the probability of getting a greater number on the first dice than the one on the second, given that the sum should equal 8.\n",
    "\n"
   ]
  },
  {
   "cell_type": "code",
   "execution_count": null,
   "metadata": {},
   "outputs": [],
   "source": []
  },
  {
   "cell_type": "code",
   "execution_count": null,
   "metadata": {},
   "outputs": [],
   "source": []
  },
  {
   "cell_type": "markdown",
   "metadata": {},
   "source": [
    "Tom is playing with three coins. The probability that the three come up heads is clear:  ½ * ½ * ½ = ⅛. And clearly the same applies to the probability that they come up tails: ⅛. Therefore, the probability that the coins come up all heads or all tails will be ¼.\n",
    "\n",
    "We are all set until here. But let’s consider now the following: \n",
    "\n",
    "When the three coins are flipped, at least two should match on heads or tails. The probability that the third coincides with the other two should be ½, because only two possibilities exist for the last coin: heads or tails. Therefore, we are faced with the surprising conclusion that the probability that all of the coins fall on the same side is ½ and not the ¼ we had established earlier.\n",
    "\n",
    "True or False?"
   ]
  },
  {
   "cell_type": "code",
   "execution_count": null,
   "metadata": {},
   "outputs": [],
   "source": []
  },
  {
   "cell_type": "markdown",
   "metadata": {},
   "source": [
    "Adrián participates every week in a lottery in which, like the Primitiva, you must correctly select 6 numbers from 1 to 60 to win the grand prize. Only in that case, do you win the pot that has accumulated over the previous weeks. One day, he was in his room, with the radio on, and the announcer announced the first number. Suddenly, Adrián turned off the radio and jumped with joy: he had won! What number did he hear?\n",
    "\n"
   ]
  },
  {
   "cell_type": "code",
   "execution_count": null,
   "metadata": {},
   "outputs": [],
   "source": []
  },
  {
   "cell_type": "code",
   "execution_count": null,
   "metadata": {},
   "outputs": [],
   "source": []
  },
  {
   "cell_type": "markdown",
   "metadata": {},
   "source": [
    "We have 1000 data points from a variable that is defined in the following way:\n",
    "\n",
    "Every point is the result of calculating the average of 1000 samples of the variable. \n",
    "\n",
    "If we draw the frequency distribution of the variable means, what would it look like?"
   ]
  }
 ],
 "metadata": {
  "kernelspec": {
   "display_name": "Python 3",
   "language": "python",
   "name": "python3"
  },
  "language_info": {
   "codemirror_mode": {
    "name": "ipython",
    "version": 3
   },
   "file_extension": ".py",
   "mimetype": "text/x-python",
   "name": "python",
   "nbconvert_exporter": "python",
   "pygments_lexer": "ipython3",
   "version": "3.7.6"
  },
  "toc": {
   "base_numbering": 1,
   "nav_menu": {},
   "number_sections": true,
   "sideBar": true,
   "skip_h1_title": false,
   "title_cell": "Table of Contents",
   "title_sidebar": "Contents",
   "toc_cell": true,
   "toc_position": {},
   "toc_section_display": true,
   "toc_window_display": false
  }
 },
 "nbformat": 4,
 "nbformat_minor": 2
}
