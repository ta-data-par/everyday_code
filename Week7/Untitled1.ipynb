{
 "cells": [
  {
   "cell_type": "code",
   "execution_count": 1,
   "metadata": {
    "slideshow": {
     "slide_type": "slide"
    }
   },
   "outputs": [],
   "source": [
    "from sklearn import datasets\n",
    "import pandas as pd\n",
    "from sklearn import linear_model"
   ]
  },
  {
   "cell_type": "code",
   "execution_count": 7,
   "metadata": {
    "slideshow": {
     "slide_type": "slide"
    }
   },
   "outputs": [
    {
     "data": {
      "text/plain": [
       "'.. _diabetes_dataset:\\n\\nDiabetes dataset\\n----------------\\n\\nTen baseline variables, age, sex, body mass index, average blood\\npressure, and six blood serum measurements were obtained for each of n =\\n442 diabetes patients, as well as the response of interest, a\\nquantitative measure of disease progression one year after baseline.\\n\\n**Data Set Characteristics:**\\n\\n  :Number of Instances: 442\\n\\n  :Number of Attributes: First 10 columns are numeric predictive values\\n\\n  :Target: Column 11 is a quantitative measure of disease progression one year after baseline\\n\\n  :Attribute Information:\\n      - Age\\n      - Sex\\n      - Body mass index\\n      - Average blood pressure\\n      - S1\\n      - S2\\n      - S3\\n      - S4\\n      - S5\\n      - S6\\n\\nNote: Each of these 10 feature variables have been mean centered and scaled by the standard deviation times `n_samples` (i.e. the sum of squares of each column totals 1).\\n\\nSource URL:\\nhttp://www4.stat.ncsu.edu/~boos/var.select/diabetes.html\\n\\nFor more information see:\\nBradley Efron, Trevor Hastie, Iain Johnstone and Robert Tibshirani (2004) \"Least Angle Regression,\" Annals of Statistics (with discussion), 407-499.\\n(http://web.stanford.edu/~hastie/Papers/LARS/LeastAngle_2002.pdf)'"
      ]
     },
     "execution_count": 7,
     "metadata": {},
     "output_type": "execute_result"
    }
   ],
   "source": [
    "diabetes=datasets.load_diabetes()\n",
    "diabetes.DESCR"
   ]
  },
  {
   "cell_type": "code",
   "execution_count": 3,
   "metadata": {
    "slideshow": {
     "slide_type": "slide"
    }
   },
   "outputs": [
    {
     "data": {
      "text/html": [
       "<div>\n",
       "<style scoped>\n",
       "    .dataframe tbody tr th:only-of-type {\n",
       "        vertical-align: middle;\n",
       "    }\n",
       "\n",
       "    .dataframe tbody tr th {\n",
       "        vertical-align: top;\n",
       "    }\n",
       "\n",
       "    .dataframe thead th {\n",
       "        text-align: right;\n",
       "    }\n",
       "</style>\n",
       "<table border=\"1\" class=\"dataframe\">\n",
       "  <thead>\n",
       "    <tr style=\"text-align: right;\">\n",
       "      <th></th>\n",
       "      <th>0</th>\n",
       "    </tr>\n",
       "  </thead>\n",
       "  <tbody>\n",
       "    <tr>\n",
       "      <th>0</th>\n",
       "      <td>151.0</td>\n",
       "    </tr>\n",
       "    <tr>\n",
       "      <th>1</th>\n",
       "      <td>75.0</td>\n",
       "    </tr>\n",
       "    <tr>\n",
       "      <th>2</th>\n",
       "      <td>141.0</td>\n",
       "    </tr>\n",
       "    <tr>\n",
       "      <th>3</th>\n",
       "      <td>206.0</td>\n",
       "    </tr>\n",
       "    <tr>\n",
       "      <th>4</th>\n",
       "      <td>135.0</td>\n",
       "    </tr>\n",
       "  </tbody>\n",
       "</table>\n",
       "</div>"
      ],
      "text/plain": [
       "       0\n",
       "0  151.0\n",
       "1   75.0\n",
       "2  141.0\n",
       "3  206.0\n",
       "4  135.0"
      ]
     },
     "execution_count": 3,
     "metadata": {},
     "output_type": "execute_result"
    }
   ],
   "source": [
    "pd.DataFrame(diabetes.target).head()"
   ]
  },
  {
   "cell_type": "code",
   "execution_count": 16,
   "metadata": {
    "slideshow": {
     "slide_type": "slide"
    }
   },
   "outputs": [
    {
     "data": {
      "text/plain": [
       "(100, 100)"
      ]
     },
     "execution_count": 16,
     "metadata": {},
     "output_type": "execute_result"
    }
   ],
   "source": [
    "\"\"\"featureVectors, targets = datasets.make_classification()\n",
    "featureVectors, targets = datasets.make_moons()\"\"\"\n",
    "featureVectors, targets = datasets.make_regression()\n",
    "featureVectors.shape\n"
   ]
  },
  {
   "cell_type": "code",
   "execution_count": 17,
   "metadata": {
    "slideshow": {
     "slide_type": "slide"
    }
   },
   "outputs": [
    {
     "data": {
      "text/plain": [
       "-1.3318474199120955"
      ]
     },
     "execution_count": 17,
     "metadata": {},
     "output_type": "execute_result"
    }
   ],
   "source": [
    "model = linear_model.LinearRegression()\n",
    "#create the model\n",
    "model.fit(featureVectors, targets)\n",
    "#now we print the model coefficients\n",
    "model.intercept_\n"
   ]
  },
  {
   "cell_type": "code",
   "execution_count": 18,
   "metadata": {
    "slideshow": {
     "slide_type": "slide"
    }
   },
   "outputs": [
    {
     "data": {
      "text/plain": [
       "array([-1.83635915e+00,  2.87733167e+01,  6.85989160e-01,  2.06822283e+00,\n",
       "        3.08223191e+01, -5.36229653e-01, -6.64110881e-01,  1.14348992e+00,\n",
       "        3.26927119e+01,  1.24874824e+00, -2.25918736e+00, -2.22386396e-01,\n",
       "       -1.41791383e+00,  9.96824174e-01,  1.65691297e+00,  1.14669754e-01,\n",
       "       -6.09511867e-01,  4.18279715e-02, -1.06592002e-01, -2.72519698e+00,\n",
       "        2.98389277e-01,  1.17699087e+00, -7.49776111e-01, -2.23102516e-02,\n",
       "       -1.27805400e+00,  2.89984657e+01,  2.38333430e+00,  7.65950176e+01,\n",
       "        5.85988459e-01,  4.08456583e+01, -6.10723532e-01,  5.19576481e-01,\n",
       "        9.29782460e+01,  5.51017574e+01, -2.83857779e-01,  3.02260428e+00,\n",
       "        4.32292229e-01,  5.83690709e-01, -8.20777361e-02,  6.25535130e-01,\n",
       "        2.11149383e+00,  6.63975577e-01, -2.36161508e-01,  1.79113534e+00,\n",
       "       -1.77739078e-01,  1.07873795e+00,  8.70330670e+01, -6.10960946e-01,\n",
       "        1.49909487e+00, -1.09356920e+00,  1.26357886e+00, -1.41773525e+00,\n",
       "       -4.44185498e-01, -5.39036417e-01,  7.93717880e-01,  1.34661397e+00,\n",
       "       -4.62858076e-02,  2.41372781e+00,  1.03362233e+00, -1.93343278e+00,\n",
       "        4.05338290e-01,  9.46471967e+01,  1.96371780e+00, -4.69910808e-01,\n",
       "       -1.15094237e+00, -2.92621891e-01, -6.74480473e-02, -1.36252369e+00,\n",
       "       -3.75271564e-01,  4.04264183e-01, -1.32073385e+00,  2.97635300e-01,\n",
       "       -3.49774544e+00,  1.53499501e+00, -1.20939899e-01,  9.05945189e-01,\n",
       "       -9.60928843e-01,  4.50123278e-01, -9.00656666e-01, -2.29748678e+00,\n",
       "        1.66311286e-01, -1.08698477e+00, -1.08345268e+00,  3.63270945e-01,\n",
       "        1.55926807e+00,  6.29458592e-01, -6.65348891e-01,  1.30077011e+00,\n",
       "       -1.51885056e+00,  7.44525213e-01,  1.15085065e+00,  8.27958455e-01,\n",
       "       -1.39075352e+00, -1.16851704e+00,  8.76870021e-01,  1.76448846e-01,\n",
       "       -1.82057163e+00, -1.15521660e-01,  1.42573773e+00, -8.66176734e-02])"
      ]
     },
     "execution_count": 18,
     "metadata": {},
     "output_type": "execute_result"
    }
   ],
   "source": [
    "model.coef_"
   ]
  },
  {
   "cell_type": "code",
   "execution_count": 19,
   "metadata": {
    "slideshow": {
     "slide_type": "slide"
    }
   },
   "outputs": [
    {
     "data": {
      "text/plain": [
       "1.0"
      ]
     },
     "execution_count": 19,
     "metadata": {},
     "output_type": "execute_result"
    }
   ],
   "source": [
    "model.score(featureVectors, targets)"
   ]
  },
  {
   "cell_type": "code",
   "execution_count": 20,
   "metadata": {
    "slideshow": {
     "slide_type": "slide"
    }
   },
   "outputs": [
    {
     "name": "stdout",
     "output_type": "stream",
     "text": [
      "Requirement already satisfied: yellowbrick in c:\\users\\eldiy\\anaconda3\\lib\\site-packages (0.9.1)\n",
      "Requirement already satisfied: scikit-learn>=0.20 in c:\\users\\eldiy\\anaconda3\\lib\\site-packages (from yellowbrick) (0.20.3)\n",
      "Requirement already satisfied: scipy>=1.0.0 in c:\\users\\eldiy\\anaconda3\\lib\\site-packages (from yellowbrick) (1.2.1)\n",
      "Requirement already satisfied: numpy>=1.13.0 in c:\\users\\eldiy\\anaconda3\\lib\\site-packages (from yellowbrick) (1.16.2)\n",
      "Requirement already satisfied: cycler>=0.10.0 in c:\\users\\eldiy\\anaconda3\\lib\\site-packages (from yellowbrick) (0.10.0)\n",
      "Requirement already satisfied: matplotlib!=3.0.0,>=1.5.1 in c:\\users\\eldiy\\anaconda3\\lib\\site-packages (from yellowbrick) (3.0.3)\n",
      "Requirement already satisfied: six in c:\\users\\eldiy\\anaconda3\\lib\\site-packages (from cycler>=0.10.0->yellowbrick) (1.12.0)\n",
      "Requirement already satisfied: kiwisolver>=1.0.1 in c:\\users\\eldiy\\anaconda3\\lib\\site-packages (from matplotlib!=3.0.0,>=1.5.1->yellowbrick) (1.0.1)\n",
      "Requirement already satisfied: pyparsing!=2.0.4,!=2.1.2,!=2.1.6,>=2.0.1 in c:\\users\\eldiy\\anaconda3\\lib\\site-packages (from matplotlib!=3.0.0,>=1.5.1->yellowbrick) (2.3.1)\n",
      "Requirement already satisfied: python-dateutil>=2.1 in c:\\users\\eldiy\\anaconda3\\lib\\site-packages (from matplotlib!=3.0.0,>=1.5.1->yellowbrick) (2.8.0)\n",
      "Requirement already satisfied: setuptools in c:\\users\\eldiy\\anaconda3\\lib\\site-packages (from kiwisolver>=1.0.1->matplotlib!=3.0.0,>=1.5.1->yellowbrick) (40.8.0)\n"
     ]
    }
   ],
   "source": [
    "!pip install yellowbrick\n",
    "\n",
    "from yellowbrick.regressor import ResidualsPlot"
   ]
  },
  {
   "cell_type": "code",
   "execution_count": 26,
   "metadata": {
    "scrolled": true,
    "slideshow": {
     "slide_type": "notes"
    }
   },
   "outputs": [
    {
     "data": {
      "text/plain": [
       "1.0"
      ]
     },
     "execution_count": 26,
     "metadata": {},
     "output_type": "execute_result"
    },
    {
     "data": {
      "image/png": "[encoded data removed]",
      "text/plain": [
       "<Figure size 432x288 with 1 Axes>"
      ]
     },
     "metadata": {
      "needs_background": "light"
     },
     "output_type": "display_data"
    }
   ],
   "source": [
    "visualizer = ResidualsPlot(model, hist=False)\n",
    "#visualizer.fit(featureVectors, targets)\n",
    "visualizer.score(featureVectors, targets) "
   ]
  },
  {
   "cell_type": "code",
   "execution_count": 32,
   "metadata": {},
   "outputs": [
    {
     "data": {
      "text/plain": [
       "True"
      ]
     },
     "execution_count": 32,
     "metadata": {},
     "output_type": "execute_result"
    }
   ],
   "source": [
    "[type(x) in [int,float] for x in df.columns]"
   ]
  },
  {
   "cell_type": "code",
   "execution_count": null,
   "metadata": {},
   "outputs": [],
   "source": []
  },
  {
   "cell_type": "code",
   "execution_count": 184,
   "metadata": {},
   "outputs": [
    {
     "data": {
      "text/html": [
       "<div>\n",
       "<style scoped>\n",
       "    .dataframe tbody tr th:only-of-type {\n",
       "        vertical-align: middle;\n",
       "    }\n",
       "\n",
       "    .dataframe tbody tr th {\n",
       "        vertical-align: top;\n",
       "    }\n",
       "\n",
       "    .dataframe thead th {\n",
       "        text-align: right;\n",
       "    }\n",
       "</style>\n",
       "<table border=\"1\" class=\"dataframe\">\n",
       "  <thead>\n",
       "    <tr style=\"text-align: right;\">\n",
       "      <th></th>\n",
       "      <th>0</th>\n",
       "      <th>1</th>\n",
       "      <th>2</th>\n",
       "      <th>3</th>\n",
       "      <th>5</th>\n",
       "      <th>6</th>\n",
       "    </tr>\n",
       "  </thead>\n",
       "  <tbody>\n",
       "    <tr>\n",
       "      <th>0</th>\n",
       "      <td>0.225798</td>\n",
       "      <td>0.808989</td>\n",
       "      <td>0.267312</td>\n",
       "      <td>0.844772</td>\n",
       "      <td>p</td>\n",
       "      <td>q</td>\n",
       "    </tr>\n",
       "    <tr>\n",
       "      <th>1</th>\n",
       "      <td>0.507636</td>\n",
       "      <td>0.251086</td>\n",
       "      <td>0.233462</td>\n",
       "      <td>0.936567</td>\n",
       "      <td>w</td>\n",
       "      <td>q</td>\n",
       "    </tr>\n",
       "    <tr>\n",
       "      <th>2</th>\n",
       "      <td>0.855050</td>\n",
       "      <td>0.037132</td>\n",
       "      <td>0.695710</td>\n",
       "      <td>0.864947</td>\n",
       "      <td>p</td>\n",
       "      <td>o</td>\n",
       "    </tr>\n",
       "  </tbody>\n",
       "</table>\n",
       "</div>"
      ],
      "text/plain": [
       "          0         1         2         3  5  6\n",
       "0  0.225798  0.808989  0.267312  0.844772  p  q\n",
       "1  0.507636  0.251086  0.233462  0.936567  w  q\n",
       "2  0.855050  0.037132  0.695710  0.864947  p  o"
      ]
     },
     "execution_count": 184,
     "metadata": {},
     "output_type": "execute_result"
    }
   ],
   "source": [
    "import numpy as np\n",
    "k=pd.DataFrame(np.random.random((3,4)))\n",
    "k[5]=['p','w','p']\n",
    "k[6]=['q','q','o']\n",
    "k"
   ]
  },
  {
   "cell_type": "code",
   "execution_count": 189,
   "metadata": {},
   "outputs": [
    {
     "name": "stdout",
     "output_type": "stream",
     "text": [
      "[]\n",
      "[1.]\n"
     ]
    }
   ],
   "source": [
    "for i,g in enumerate(k.groupby([6])):\n",
    "    q=g[1][5].value_counts()\n",
    "    print(np.where(q[q.index == 'w'],q[q.index == 'w'],np.nan))"
   ]
  },
  {
   "cell_type": "code",
   "execution_count": 197,
   "metadata": {},
   "outputs": [],
   "source": [
    "def func(x):\n",
    "    q=x.value_counts()\n",
    "    return np.where(q[q.index == 'w'],q[q.index == 'w'],0)"
   ]
  },
  {
   "cell_type": "code",
   "execution_count": null,
   "metadata": {},
   "outputs": [],
   "source": []
  },
  {
   "cell_type": "code",
   "execution_count": null,
   "metadata": {},
   "outputs": [],
   "source": []
  },
  {
   "cell_type": "code",
   "execution_count": null,
   "metadata": {},
   "outputs": [],
   "source": []
  },
  {
   "cell_type": "code",
   "execution_count": null,
   "metadata": {},
   "outputs": [],
   "source": []
  }
 ],
 "metadata": {
  "celltoolbar": "Slideshow",
  "kernelspec": {
   "display_name": "Python 3",
   "language": "python",
   "name": "python3"
  },
  "language_info": {
   "codemirror_mode": {
    "name": "ipython",
    "version": 3
   },
   "file_extension": ".py",
   "mimetype": "text/x-python",
   "name": "python",
   "nbconvert_exporter": "python",
   "pygments_lexer": "ipython3",
   "version": "3.6.8"
  }
 },
 "nbformat": 4,
 "nbformat_minor": 2
}
