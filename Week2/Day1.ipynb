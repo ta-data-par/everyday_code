{
 "cells": [
  {
   "cell_type": "markdown",
   "metadata": {},
   "source": [
    "# Object oriented programming"
   ]
  },
  {
   "cell_type": "code",
   "execution_count": 1,
   "metadata": {},
   "outputs": [],
   "source": [
    "import pandas as pd"
   ]
  },
  {
   "cell_type": "code",
   "execution_count": 2,
   "metadata": {},
   "outputs": [],
   "source": [
    "df=pd.DataFrame()"
   ]
  },
  {
   "cell_type": "code",
   "execution_count": 4,
   "metadata": {},
   "outputs": [],
   "source": [
    "df['list']=[1,2,3,4,5]"
   ]
  },
  {
   "cell_type": "code",
   "execution_count": 191,
   "metadata": {},
   "outputs": [
    {
     "data": {
      "text/plain": [
       "list    3.0\n",
       "dtype: float64"
      ]
     },
     "execution_count": 191,
     "metadata": {},
     "output_type": "execute_result"
    }
   ],
   "source": [
    "pd.DataFrame.mean(df)\n",
    "df.mean()"
   ]
  },
  {
   "cell_type": "code",
   "execution_count": 48,
   "metadata": {},
   "outputs": [],
   "source": [
    "class roller():\n",
    "    \n",
    "    def __init__(self):\n",
    "        self.fair=0\n",
    "    \n",
    "    def roll_the_dice(self):\n",
    "        import random\n",
    "        value = random.randint(1,6)\n",
    "        return random.randint(1,6)\n",
    "    \n",
    "    def roll_the_unfair_dice(self):\n",
    "        import numpy as np\n",
    "        value = np.random.choice([1,2,3,4,5,6], p=[1/8, 1/16, 1/2, 1/8, 1/16, 1/8])\n",
    "        return value \n",
    "        \n",
    "    def player(self,fair):\n",
    "\n",
    "       if fair != 0 and fair !=1:\n",
    "           return(\"Error - please enter 0 or 1\")\n",
    "\n",
    "       flag = False\n",
    "       while flag == False:\n",
    "           n = int(input('Please enter an integer less than 1,000: '))\n",
    "           if n >= 1000:\n",
    "               print('Try again - number too large! We will be here forever')\n",
    "           else:\n",
    "               flag = True\n",
    "\n",
    "       results = []\n",
    "       results_dict = {}\n",
    "\n",
    "       for i in range(1,7):\n",
    "           results_dict[i] = 0\n",
    "\n",
    "       if fair == 0:\n",
    "           for j in range(n):\n",
    "\n",
    "               d = self.roll_the_dice()\n",
    "               results.append(d)\n",
    "               results_dict[d] += 1\n",
    "\n",
    "       elif fair == 1:\n",
    "           for j in range(n):\n",
    "\n",
    "               d = self.roll_the_unfair_dice()\n",
    "               results.append(d)\n",
    "               results_dict[d] += 1\n",
    "\n",
    "       print(results)\n",
    "       return (f'The final cumulative result for all of our rolls is: {results_dict}')"
   ]
  },
  {
   "cell_type": "code",
   "execution_count": 49,
   "metadata": {},
   "outputs": [
    {
     "name": "stdout",
     "output_type": "stream",
     "text": [
      "Please enter an integer less than 1,000: 50\n",
      "[3, 3, 6, 3, 3, 3, 3, 3, 3, 5, 2, 4, 3, 3, 3, 3, 3, 3, 2, 3, 3, 4, 3, 4, 6, 2, 3, 4, 3, 2, 3, 2, 3, 4, 3, 4, 6, 3, 2, 3, 3, 2, 1, 3, 3, 3, 1, 4, 1, 3]\n"
     ]
    },
    {
     "data": {
      "text/plain": [
       "'The final cumulative result for all of our rolls is: {1: 3, 2: 7, 3: 29, 4: 7, 5: 1, 6: 3}'"
      ]
     },
     "execution_count": 49,
     "metadata": {},
     "output_type": "execute_result"
    }
   ],
   "source": [
    "R=roller()\n",
    "R.player(1)"
   ]
  },
  {
   "cell_type": "code",
   "execution_count": 54,
   "metadata": {},
   "outputs": [
    {
     "ename": "SyntaxError",
     "evalue": "unexpected EOF while parsing (<ipython-input-54-a666325eb94f>, line 5)",
     "output_type": "error",
     "traceback": [
      "\u001b[1;36m  File \u001b[1;32m\"<ipython-input-54-a666325eb94f>\"\u001b[1;36m, line \u001b[1;32m5\u001b[0m\n\u001b[1;33m    \u001b[0m\n\u001b[1;37m    ^\u001b[0m\n\u001b[1;31mSyntaxError\u001b[0m\u001b[1;31m:\u001b[0m unexpected EOF while parsing\n"
     ]
    }
   ],
   "source": [
    "class Dog:\n",
    "    \n",
    "    def __init__(self):\n",
    "        pass\n",
    "    \n",
    "    "
   ]
  },
  {
   "cell_type": "code",
   "execution_count": 53,
   "metadata": {},
   "outputs": [
    {
     "name": "stdout",
     "output_type": "stream",
     "text": [
      "<class '__main__.Dog'>\n"
     ]
    }
   ],
   "source": [
    "barky=Dog\n",
    "print(barky)"
   ]
  },
  {
   "cell_type": "code",
   "execution_count": 55,
   "metadata": {},
   "outputs": [],
   "source": [
    "class Dog:\n",
    "    \n",
    "    def __init__(self,name,age):\n",
    "        self.name=name\n",
    "        self.age=age"
   ]
  },
  {
   "cell_type": "code",
   "execution_count": 61,
   "metadata": {},
   "outputs": [],
   "source": [
    "barky=Dog('zippy',1)"
   ]
  },
  {
   "cell_type": "code",
   "execution_count": 62,
   "metadata": {},
   "outputs": [
    {
     "data": {
      "text/plain": [
       "'zippy'"
      ]
     },
     "execution_count": 62,
     "metadata": {},
     "output_type": "execute_result"
    }
   ],
   "source": [
    "barky.name"
   ]
  },
  {
   "cell_type": "code",
   "execution_count": 63,
   "metadata": {},
   "outputs": [
    {
     "data": {
      "text/plain": [
       "1"
      ]
     },
     "execution_count": 63,
     "metadata": {},
     "output_type": "execute_result"
    }
   ],
   "source": [
    "barky.age"
   ]
  },
  {
   "cell_type": "code",
   "execution_count": 64,
   "metadata": {},
   "outputs": [
    {
     "name": "stdout",
     "output_type": "stream",
     "text": [
      "zippy is 1 y.o.\n"
     ]
    }
   ],
   "source": [
    "print(f'{barky.name} is {barky.age} y.o.')"
   ]
  },
  {
   "cell_type": "code",
   "execution_count": 68,
   "metadata": {},
   "outputs": [],
   "source": [
    "class Dog:\n",
    "    \n",
    "    def __init__(self,name,age):\n",
    "        self.name=name\n",
    "        self.age=age\n",
    "        \n",
    "    def bark(self):\n",
    "        print('bark bark!')"
   ]
  },
  {
   "cell_type": "code",
   "execution_count": 70,
   "metadata": {},
   "outputs": [
    {
     "name": "stdout",
     "output_type": "stream",
     "text": [
      "bark bark!\n"
     ]
    }
   ],
   "source": [
    "barky=Dog('zippy',1)\n",
    "barky.bark()"
   ]
  },
  {
   "cell_type": "code",
   "execution_count": 74,
   "metadata": {},
   "outputs": [],
   "source": [
    "class Dog:\n",
    "    \n",
    "    def __init__(self,name,age):\n",
    "        self.name=name\n",
    "        self.age=age\n",
    "        \n",
    "    def bark(self):\n",
    "        print('bark bark!')\n",
    "        \n",
    "    def birthday(self):\n",
    "        self.age +=1"
   ]
  },
  {
   "cell_type": "code",
   "execution_count": 77,
   "metadata": {},
   "outputs": [
    {
     "data": {
      "text/plain": [
       "2"
      ]
     },
     "execution_count": 77,
     "metadata": {},
     "output_type": "execute_result"
    }
   ],
   "source": [
    "barky=Dog('zippy',1)\n",
    "barky.birthday()\n",
    "barky.age"
   ]
  },
  {
   "cell_type": "code",
   "execution_count": 78,
   "metadata": {},
   "outputs": [
    {
     "data": {
      "text/plain": [
       "3"
      ]
     },
     "execution_count": 78,
     "metadata": {},
     "output_type": "execute_result"
    }
   ],
   "source": [
    "barky.birthday()\n",
    "barky.age"
   ]
  },
  {
   "cell_type": "code",
   "execution_count": 104,
   "metadata": {},
   "outputs": [],
   "source": [
    "class Dog:\n",
    "    \n",
    "    def __init__(self,name,age):\n",
    "        self.name=name\n",
    "        self.age=age\n",
    "        \n",
    "    def bark(self):\n",
    "        print('bark bark!')\n",
    "        \n",
    "    def birthday(self):\n",
    "        self.age +=1\n",
    "        \n",
    "    def setBuddy(self,buddy):\n",
    "        self.buddy=buddy\n",
    "        buddy.buddy=self"
   ]
  },
  {
   "cell_type": "code",
   "execution_count": 92,
   "metadata": {},
   "outputs": [
    {
     "name": "stdout",
     "output_type": "stream",
     "text": [
      "fluffy\n",
      "barky\n"
     ]
    },
    {
     "ename": "AttributeError",
     "evalue": "'Dog' object has no attribute 'buddy'",
     "output_type": "error",
     "traceback": [
      "\u001b[1;31m---------------------------------------------------------------------------\u001b[0m",
      "\u001b[1;31mAttributeError\u001b[0m                            Traceback (most recent call last)",
      "\u001b[1;32m<ipython-input-92-32dde59d71e0>\u001b[0m in \u001b[0;36m<module>\u001b[1;34m\u001b[0m\n\u001b[0;32m      8\u001b[0m \u001b[0mbarky\u001b[0m\u001b[1;33m.\u001b[0m\u001b[0mbuddy\u001b[0m\u001b[1;33m.\u001b[0m\u001b[0mage\u001b[0m\u001b[1;33m\u001b[0m\u001b[1;33m\u001b[0m\u001b[0m\n\u001b[0;32m      9\u001b[0m \u001b[0mprint\u001b[0m\u001b[1;33m(\u001b[0m\u001b[0mfluffy\u001b[0m\u001b[1;33m.\u001b[0m\u001b[0mbuddy\u001b[0m\u001b[1;33m.\u001b[0m\u001b[0mname\u001b[0m\u001b[1;33m)\u001b[0m\u001b[1;33m\u001b[0m\u001b[1;33m\u001b[0m\u001b[0m\n\u001b[1;32m---> 10\u001b[1;33m \u001b[0mprint\u001b[0m\u001b[1;33m(\u001b[0m\u001b[0mfluffy2\u001b[0m\u001b[1;33m.\u001b[0m\u001b[0mbuddy\u001b[0m\u001b[1;33m.\u001b[0m\u001b[0mname\u001b[0m\u001b[1;33m)\u001b[0m\u001b[1;33m\u001b[0m\u001b[1;33m\u001b[0m\u001b[0m\n\u001b[0m",
      "\u001b[1;31mAttributeError\u001b[0m: 'Dog' object has no attribute 'buddy'"
     ]
    }
   ],
   "source": [
    "barky=Dog('barky',1)\n",
    "fluffy=Dog('fluffy',1)\n",
    "\n",
    "fluffy2=Dog('fluffy2',1)\n",
    "\n",
    "barky.setBuddy(fluffy)\n",
    "print(barky.buddy.name)\n",
    "barky.buddy.age\n",
    "print(fluffy.buddy.name)\n",
    "print(fluffy2.buddy.name)"
   ]
  },
  {
   "cell_type": "code",
   "execution_count": 101,
   "metadata": {},
   "outputs": [
    {
     "name": "stdout",
     "output_type": "stream",
     "text": [
      "name\n",
      "name\n"
     ]
    },
    {
     "data": {
      "text/plain": [
       "True"
      ]
     },
     "execution_count": 101,
     "metadata": {},
     "output_type": "execute_result"
    }
   ],
   "source": [
    "a=Dog('name',1)\n",
    "b=Dog('name',1)\n",
    "\n",
    "print(a.name)\n",
    "print(b.name)\n",
    "a.name==b.name\n",
    "a.age==b.age\n",
    "a==b\n",
    "a.setBuddy(b)\n",
    "a.buddy.name==a.name"
   ]
  },
  {
   "cell_type": "code",
   "execution_count": 105,
   "metadata": {},
   "outputs": [
    {
     "data": {
      "text/plain": [
       "2"
      ]
     },
     "execution_count": 105,
     "metadata": {},
     "output_type": "execute_result"
    }
   ],
   "source": [
    "a=Dog('name',1)\n",
    "a.birthday()\n",
    "a.age"
   ]
  },
  {
   "cell_type": "code",
   "execution_count": 179,
   "metadata": {},
   "outputs": [],
   "source": [
    "class Dog:\n",
    "\n",
    "    species='mammals'\n",
    "    number_of_legs=4\n",
    "    level_of_danger=1\n",
    "    \n",
    "    def __init__(self,name,age,lod=level_of_danger,nol=number_of_legs):\n",
    "        self.name=name\n",
    "        self.age=age\n",
    "        self.level_of_danger=lod\n",
    "        self.number_of_legs=nol\n",
    "        \n",
    "    def bark(self):\n",
    "        print('bark bark!')\n",
    "        \n",
    "    def birthday(self):\n",
    "        self.age +=1\n",
    "        \n",
    "    def setBuddy(self,buddy):\n",
    "        self.buddy=buddy\n",
    "        buddy.buddy=self\n",
    "        \n",
    "    def cutlegs(self,noltc,nol=number_of_legs):\n",
    "        self.number_of_legs=nol-noltc\n",
    "    \n",
    "    def cutlegs(self,noltc):\n",
    "        self.number_of_legs -= noltc"
   ]
  },
  {
   "cell_type": "code",
   "execution_count": 181,
   "metadata": {},
   "outputs": [
    {
     "name": "stdout",
     "output_type": "stream",
     "text": [
      "4\n",
      "2\n",
      "0\n"
     ]
    }
   ],
   "source": [
    "a=Dog('name',1,10)\n",
    "b=Dog('name',1)\n",
    "\n",
    "print(a.number_of_legs)\n",
    "a.cutlegs(2)\n",
    "print(a.number_of_legs)\n",
    "\n",
    "a.cutlegs(2)\n",
    "print(a.number_of_legs)"
   ]
  },
  {
   "cell_type": "code",
   "execution_count": 227,
   "metadata": {},
   "outputs": [
    {
     "name": "stdout",
     "output_type": "stream",
     "text": [
      "mammals 2\n",
      "mammals 1\n"
     ]
    }
   ],
   "source": [
    "a=Dog('name',1,2)\n",
    "b=Dog('name',1)\n",
    "\n",
    "print(a.species,a.level_of_danger)\n",
    "print(b.species,b.level_of_danger)"
   ]
  },
  {
   "cell_type": "code",
   "execution_count": 182,
   "metadata": {},
   "outputs": [
    {
     "name": "stdout",
     "output_type": "stream",
     "text": [
      "4\n",
      "2\n",
      "0\n"
     ]
    }
   ],
   "source": [
    "a=Dog('name',1,10)\n",
    "b=Dog('name',1)\n",
    "\n",
    "print(a.number_of_legs)\n",
    "a.cutlegs(2)\n",
    "print(a.number_of_legs)\n",
    "\n",
    "Dog.cutlegs(a,2)\n",
    "print(a.number_of_legs)\n"
   ]
  },
  {
   "cell_type": "code",
   "execution_count": 205,
   "metadata": {},
   "outputs": [],
   "source": [
    "class Dog:\n",
    "\n",
    "    species='mammals'\n",
    "    number_of_legs=4\n",
    "    level_of_danger=1\n",
    "    \n",
    "    def __init__(self,name,age,lod=level_of_danger,nol=number_of_legs):\n",
    "        self.name=name\n",
    "        self.age=age\n",
    "        self.level_of_danger=lod\n",
    "        self.number_of_legs=nol\n",
    "        \n",
    "    def bark(self):\n",
    "        print('bark bark!')\n",
    "        \n",
    "    def birthday(self):\n",
    "        self.age +=1\n",
    "        \n",
    "    def setBuddy(self,buddy):\n",
    "        self.buddy=buddy\n",
    "        buddy.buddy=self\n",
    "        \n",
    "    def cutlegs(self,noltc):\n",
    "        self.number_of_legs -= noltc\n",
    "    \n",
    "class Bulldog(Dog):\n",
    "    \n",
    "    weight=100\n",
    "    \n",
    "    def run(self,speed):\n",
    "        self.speed=speed\n",
    "        print(f'{self.name},{speed}')\n"
   ]
  },
  {
   "cell_type": "code",
   "execution_count": 212,
   "metadata": {},
   "outputs": [
    {
     "name": "stdout",
     "output_type": "stream",
     "text": [
      "Rocky,20\n"
     ]
    },
    {
     "ename": "AttributeError",
     "evalue": "'Bulldog' object has no attribute 'blabla'",
     "output_type": "error",
     "traceback": [
      "\u001b[1;31m---------------------------------------------------------------------------\u001b[0m",
      "\u001b[1;31mAttributeError\u001b[0m                            Traceback (most recent call last)",
      "\u001b[1;32m<ipython-input-212-366fa45fdcb3>\u001b[0m in \u001b[0;36m<module>\u001b[1;34m\u001b[0m\n\u001b[0;32m      8\u001b[0m \u001b[0mRocky2\u001b[0m\u001b[1;33m.\u001b[0m\u001b[0mspeed\u001b[0m\u001b[1;33m=\u001b[0m\u001b[1;36m20\u001b[0m\u001b[1;33m\u001b[0m\u001b[1;33m\u001b[0m\u001b[0m\n\u001b[0;32m      9\u001b[0m \u001b[0mRocky2\u001b[0m\u001b[1;33m.\u001b[0m\u001b[0mblabla\u001b[0m\u001b[1;33m=\u001b[0m\u001b[1;32mTrue\u001b[0m\u001b[1;33m\u001b[0m\u001b[1;33m\u001b[0m\u001b[0m\n\u001b[1;32m---> 10\u001b[1;33m \u001b[0mRocky\u001b[0m\u001b[1;33m.\u001b[0m\u001b[0mblabla\u001b[0m\u001b[1;33m\u001b[0m\u001b[1;33m\u001b[0m\u001b[0m\n\u001b[0m",
      "\u001b[1;31mAttributeError\u001b[0m: 'Bulldog' object has no attribute 'blabla'"
     ]
    }
   ],
   "source": [
    "Rocky=Bulldog('Rocky',4)\n",
    "Rocky2=Bulldog('Rocky2',6)\n",
    "\n",
    "Rocky.birthday()\n",
    "Rocky.age\n",
    "Rocky.run(20)\n",
    "#Rocky2.run(20)\n",
    "Rocky2.speed=20\n",
    "Rocky2.blabla=True"
   ]
  },
  {
   "cell_type": "code",
   "execution_count": 214,
   "metadata": {},
   "outputs": [
    {
     "data": {
      "text/plain": [
       "True"
      ]
     },
     "execution_count": 214,
     "metadata": {},
     "output_type": "execute_result"
    }
   ],
   "source": [
    "isinstance(Rocky,Bulldog)"
   ]
  },
  {
   "cell_type": "code",
   "execution_count": 229,
   "metadata": {},
   "outputs": [
    {
     "data": {
      "text/plain": [
       "False"
      ]
     },
     "execution_count": 229,
     "metadata": {},
     "output_type": "execute_result"
    }
   ],
   "source": [
    "isinstance(a,(int,float,Bulldog))"
   ]
  },
  {
   "cell_type": "markdown",
   "metadata": {},
   "source": [
    "# Lab\n",
    "\n",
    "Create a class of people working in cafe. Define the main tasks and attributes."
   ]
  },
  {
   "cell_type": "code",
   "execution_count": 230,
   "metadata": {},
   "outputs": [
    {
     "name": "stdout",
     "output_type": "stream",
     "text": [
      "['make coffee', 'mop the floor', 'clean the WC']\n",
      "['make coffee', 'mop the floor', 'clean the WC']\n"
     ]
    }
   ],
   "source": [
    "class CafeWorker:\n",
    "    #No () means no parameter\n",
    "    \n",
    "    #Defaults\n",
    "\n",
    "    def __init__(self, name, age, years_of_exp, tasks=[]):\n",
    "        self.name = name\n",
    "        self.age = age\n",
    "        self.years_of_exp = years_of_exp\n",
    "        self.tasks = tasks\n",
    "    \n",
    "    def speak(self):\n",
    "        return('Welcome to our cafe, may I help you?')\n",
    "        \n",
    "    def work_anniversary(self):\n",
    "        self.years_of_exp += 1\n",
    "   \n",
    "\n",
    "    def get_tasks(self):\n",
    "        return(self.tasks)\n",
    "    \n",
    "\n",
    "#Child classes\n",
    "class Barista(CafeWorker):\n",
    "\n",
    "    def speakB(self):\n",
    "        print(self.speak(), 'What drink can I prepare for you?')\n",
    "    \n",
    "    #def make_drink(self):\n",
    "\n",
    "        \n",
    "class Manager(CafeWorker):\n",
    "    \n",
    "    def __init__(self, name, age, years_of_exp, tasks = [], subordinate = []):\n",
    "        \n",
    "        CafeWorker.__init__(self, name, age, years_of_exp, tasks = [])\n",
    "        self.subordinates = subordinate\n",
    " \n",
    "    def speakM(self):\n",
    "        print('You screwed up again, you are fired!')\n",
    "        \n",
    "    def assign_subordinate(self, sub_o):\n",
    "        \n",
    "        self.subordinates.append(sub_o)\n",
    "    \n",
    "    def get_subordinates(self):\n",
    "        \n",
    "        print(f'{self.name} subordinates are:  ', end='')\n",
    "        \n",
    "        for i in self.subordinates:\n",
    "            print(f'{i.name}, ', end='')\n",
    "\n",
    "    def assign_tasks(self, employee, task):\n",
    "        \n",
    "        employee.tasks.append(task)\n",
    "    \n",
    "\n",
    "\t\n",
    "Joe = Barista('Joe',22, 1)\n",
    "Dave = Barista('Dave',51, 20)\n",
    "Allan = CafeWorker('Allan', 34, 10)\n",
    "Rachel = Manager('Rachel', 19, 10)\n",
    "\n",
    "\n",
    "Rachel.assign_tasks(Joe,'make coffee')\n",
    "Rachel.assign_tasks(Joe,'mop the floor')\n",
    "Rachel.assign_tasks(Joe,'clean the WC')\n",
    "\n",
    "print(Joe.get_tasks())\n",
    "print(Dave.get_tasks())"
   ]
  }
 ],
 "metadata": {
  "kernelspec": {
   "display_name": "Python 3",
   "language": "python",
   "name": "python3"
  },
  "language_info": {
   "codemirror_mode": {
    "name": "ipython",
    "version": 3
   },
   "file_extension": ".py",
   "mimetype": "text/x-python",
   "name": "python",
   "nbconvert_exporter": "python",
   "pygments_lexer": "ipython3",
   "version": "3.6.8"
  }
 },
 "nbformat": 4,
 "nbformat_minor": 2
}
