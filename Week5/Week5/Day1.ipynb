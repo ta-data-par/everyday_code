{
 "cells": [
  {
   "cell_type": "code",
   "execution_count": 40,
   "metadata": {},
   "outputs": [],
   "source": [
    "import random\n",
    "\n",
    "def coin():\n",
    "    \n",
    "    return heads\n",
    "\n",
    "\n",
    "def sim(n):\n",
    "    lst=[]\n",
    "    for i in range(n):\n",
    "        heads=0\n",
    "        for i in range(100000000000):\n",
    "            if random.random()<=0.5:\n",
    "                heads+=1\n",
    "        lst.append(heads)\n",
    "    return lst\n",
    "\n",
    "lst=sim(100000)"
   ]
  },
  {
   "cell_type": "code",
   "execution_count": 41,
   "metadata": {},
   "outputs": [],
   "source": [
    "import pandas as pd\n",
    "df=pd.DataFrame(lst)\n",
    "df=df/1000"
   ]
  },
  {
   "cell_type": "code",
   "execution_count": 42,
   "metadata": {},
   "outputs": [
    {
     "data": {
      "text/plain": [
       "array([[<matplotlib.axes._subplots.AxesSubplot object at 0x000001DC59579CF8>]],\n",
       "      dtype=object)"
      ]
     },
     "execution_count": 42,
     "metadata": {},
     "output_type": "execute_result"
    },
    {
     "data": {
      "image/png": "[encoded data removed]",
      "text/plain": [
       "<Figure size 432x288 with 1 Axes>"
      ]
     },
     "metadata": {
      "needs_background": "light"
     },
     "output_type": "display_data"
    }
   ],
   "source": [
    "df.hist(bins=50)"
   ]
  },
  {
   "cell_type": "code",
   "execution_count": 44,
   "metadata": {},
   "outputs": [
    {
     "data": {
      "text/plain": [
       "(100000, 1)"
      ]
     },
     "execution_count": 44,
     "metadata": {},
     "output_type": "execute_result"
    }
   ],
   "source": [
    "df.shape"
   ]
  },
  {
   "cell_type": "code",
   "execution_count": null,
   "metadata": {},
   "outputs": [],
   "source": []
  },
  {
   "cell_type": "code",
   "execution_count": null,
   "metadata": {},
   "outputs": [],
   "source": []
  },
  {
   "cell_type": "code",
   "execution_count": null,
   "metadata": {},
   "outputs": [],
   "source": []
  },
  {
   "cell_type": "code",
   "execution_count": 54,
   "metadata": {},
   "outputs": [
    {
     "name": "stdout",
     "output_type": "stream",
     "text": [
      "0.000369378521%\n"
     ]
    }
   ],
   "source": [
    "cards=52\n",
    "\n",
    "aces=4\n",
    "\n",
    "ace_proba=1\n",
    "while aces>0:\n",
    "    ace_proba=ace_proba*aces/cards\n",
    "    aces=aces-1\n",
    "    cards=cards-1\n",
    "\n",
    "ace_proba=ace_proba*100\n",
    "print(str(round(ace_proba,12))+'%')"
   ]
  },
  {
   "cell_type": "code",
   "execution_count": 57,
   "metadata": {},
   "outputs": [
    {
     "data": {
      "text/plain": [
       "1.92"
      ]
     },
     "execution_count": 57,
     "metadata": {},
     "output_type": "execute_result"
    }
   ],
   "source": [
    "def event_proba(desired_event,possible_event):\n",
    "    proba=desired_event/possible_event*100\n",
    "    return round(proba,2)\n",
    "\n",
    "\n",
    "hearts=13\n",
    "event_proba(hearts,52)\n",
    "\n",
    "face=12\n",
    "event_proba(face,52)\n",
    "\n",
    "queen_of_spades=1\n",
    "event_proba(queen_of_spades,52)\n"
   ]
  },
  {
   "cell_type": "code",
   "execution_count": 59,
   "metadata": {},
   "outputs": [
    {
     "name": "stdout",
     "output_type": "stream",
     "text": [
      "2652.0 2 1326.0\n"
     ]
    }
   ],
   "source": [
    "import math\n",
    "\n",
    "n=52\n",
    "k=2\n",
    "\n",
    "Permutations=math.factorial(n)/math.factorial(n-k)\n",
    "\n",
    "Replacements=math.factorial(k)\n",
    "\n",
    "Combinations=Permutations/Replacements\n",
    "\n",
    "print(Permutations,Replacements,Combinations)"
   ]
  },
  {
   "cell_type": "code",
   "execution_count": 60,
   "metadata": {},
   "outputs": [
    {
     "name": "stdout",
     "output_type": "stream",
     "text": [
      "7.84 5.88\n"
     ]
    }
   ],
   "source": [
    "cards=52\n",
    "cards_drawn=1\n",
    "cards=cards-cards_drawn\n",
    "\n",
    "aces=4\n",
    "ace_proba=event_proba(aces,cards)\n",
    "\n",
    "ace_drawn=1\n",
    "aces=aces-ace_drawn\n",
    "ace_proba1=event_proba(aces,cards)\n",
    "\n",
    "print(ace_proba,ace_proba1)\n"
   ]
  },
  {
   "cell_type": "code",
   "execution_count": null,
   "metadata": {},
   "outputs": [],
   "source": []
  },
  {
   "cell_type": "code",
   "execution_count": 62,
   "metadata": {},
   "outputs": [
    {
     "name": "stdout",
     "output_type": "stream",
     "text": [
      "19.57\n"
     ]
    }
   ],
   "source": [
    "#sample space\n",
    "cards=52\n",
    "hands=2\n",
    "turn_table=4\n",
    "cards=cards-(hands+turn_table)\n",
    "\n",
    "diamonds=13\n",
    "diamonds_open=4\n",
    "\n",
    "outs=diamonds-diamonds_open\n",
    "\n",
    "river_flush_proba=event_proba(outs,cards)\n",
    "print(river_flush_proba)"
   ]
  },
  {
   "cell_type": "code",
   "execution_count": 63,
   "metadata": {},
   "outputs": [
    {
     "name": "stdout",
     "output_type": "stream",
     "text": [
      "17.39\n"
     ]
    }
   ],
   "source": [
    "king=4\n",
    "eight=4\n",
    "\n",
    "outs=eight+king\n",
    "\n",
    "river_straight_proba=event_proba(outs,cards)\n",
    "print(river_straight_proba)"
   ]
  },
  {
   "cell_type": "code",
   "execution_count": null,
   "metadata": {},
   "outputs": [],
   "source": []
  },
  {
   "cell_type": "code",
   "execution_count": 66,
   "metadata": {},
   "outputs": [
    {
     "data": {
      "text/plain": [
       "23.07"
      ]
     },
     "execution_count": 66,
     "metadata": {},
     "output_type": "execute_result"
    }
   ],
   "source": [
    "cards=52\n",
    "hearts=13\n",
    "spades=13\n",
    "hear_or_spades=event_proba(hearts,cards)+event_proba(spades,cards)\n",
    "\n",
    "aces=4\n",
    "kings=4\n",
    "queens=4\n",
    "ace_king_queen=event_proba(aces,cards)+event_proba(kings,cards)+event_proba(queens,cards)\n",
    "\n",
    "ace_king_queen\n"
   ]
  },
  {
   "cell_type": "code",
   "execution_count": 67,
   "metadata": {},
   "outputs": [
    {
     "name": "stdout",
     "output_type": "stream",
     "text": [
      "61.54\n"
     ]
    }
   ],
   "source": [
    "# Drawing a face card or red card\n",
    "\n",
    "cards=52\n",
    "red_cards=26\n",
    "face_cards=12\n",
    "red_face=6\n",
    "\n",
    "red_or_face=event_proba(red_cards,cards)+event_proba(face_cards,cards)-event_proba(red_face,cards)\n",
    "\n",
    "print(red_or_face)"
   ]
  },
  {
   "cell_type": "code",
   "execution_count": null,
   "metadata": {},
   "outputs": [],
   "source": []
  },
  {
   "cell_type": "code",
   "execution_count": null,
   "metadata": {},
   "outputs": [],
   "source": []
  },
  {
   "cell_type": "code",
   "execution_count": 68,
   "metadata": {},
   "outputs": [
    {
     "data": {
      "text/plain": [
       "array([ 0.1887251 , -0.39047627, -0.52612156, ...,  5.38092063,\n",
       "        0.69634802,  1.84231403])"
      ]
     },
     "execution_count": 68,
     "metadata": {},
     "output_type": "execute_result"
    }
   ],
   "source": [
    "import numpy as np\n",
    "import pandas as pd\n",
    "import scipy.stats as st\n",
    "\n",
    "s=np.random.normal(1,2,10000)\n",
    "s"
   ]
  },
  {
   "cell_type": "code",
   "execution_count": 70,
   "metadata": {},
   "outputs": [],
   "source": [
    "p=np.random.normal(3,2,10000)\n"
   ]
  },
  {
   "cell_type": "code",
   "execution_count": 71,
   "metadata": {},
   "outputs": [
    {
     "data": {
      "text/html": [
       "<div>\n",
       "<style scoped>\n",
       "    .dataframe tbody tr th:only-of-type {\n",
       "        vertical-align: middle;\n",
       "    }\n",
       "\n",
       "    .dataframe tbody tr th {\n",
       "        vertical-align: top;\n",
       "    }\n",
       "\n",
       "    .dataframe thead th {\n",
       "        text-align: right;\n",
       "    }\n",
       "</style>\n",
       "<table border=\"1\" class=\"dataframe\">\n",
       "  <thead>\n",
       "    <tr style=\"text-align: right;\">\n",
       "      <th></th>\n",
       "      <th>s</th>\n",
       "      <th>p</th>\n",
       "    </tr>\n",
       "  </thead>\n",
       "  <tbody>\n",
       "    <tr>\n",
       "      <th>0</th>\n",
       "      <td>0.188725</td>\n",
       "      <td>2.941010</td>\n",
       "    </tr>\n",
       "    <tr>\n",
       "      <th>1</th>\n",
       "      <td>-0.390476</td>\n",
       "      <td>-0.990220</td>\n",
       "    </tr>\n",
       "    <tr>\n",
       "      <th>2</th>\n",
       "      <td>-0.526122</td>\n",
       "      <td>3.298459</td>\n",
       "    </tr>\n",
       "    <tr>\n",
       "      <th>3</th>\n",
       "      <td>3.126364</td>\n",
       "      <td>4.812234</td>\n",
       "    </tr>\n",
       "    <tr>\n",
       "      <th>4</th>\n",
       "      <td>-0.906195</td>\n",
       "      <td>4.385112</td>\n",
       "    </tr>\n",
       "  </tbody>\n",
       "</table>\n",
       "</div>"
      ],
      "text/plain": [
       "          s         p\n",
       "0  0.188725  2.941010\n",
       "1 -0.390476 -0.990220\n",
       "2 -0.526122  3.298459\n",
       "3  3.126364  4.812234\n",
       "4 -0.906195  4.385112"
      ]
     },
     "execution_count": 71,
     "metadata": {},
     "output_type": "execute_result"
    }
   ],
   "source": [
    "df=pd.DataFrame([s,p]).T\n",
    "df.columns=['s','p']\n",
    "df.head()"
   ]
  },
  {
   "cell_type": "code",
   "execution_count": 72,
   "metadata": {},
   "outputs": [
    {
     "data": {
      "text/plain": [
       "array([[<matplotlib.axes._subplots.AxesSubplot object at 0x000001DC5B6DBE48>,\n",
       "        <matplotlib.axes._subplots.AxesSubplot object at 0x000001DC5B6FD1D0>]],\n",
       "      dtype=object)"
      ]
     },
     "execution_count": 72,
     "metadata": {},
     "output_type": "execute_result"
    },
    {
     "data": {
      "image/png": "[encoded data removed]",
      "text/plain": [
       "<Figure size 432x288 with 2 Axes>"
      ]
     },
     "metadata": {
      "needs_background": "light"
     },
     "output_type": "display_data"
    }
   ],
   "source": [
    "df.hist()"
   ]
  },
  {
   "cell_type": "code",
   "execution_count": 73,
   "metadata": {},
   "outputs": [
    {
     "data": {
      "text/plain": [
       "array([[<matplotlib.axes._subplots.AxesSubplot object at 0x000001DC5B735860>,\n",
       "        <matplotlib.axes._subplots.AxesSubplot object at 0x000001DC5B77D7B8>]],\n",
       "      dtype=object)"
      ]
     },
     "execution_count": 73,
     "metadata": {},
     "output_type": "execute_result"
    },
    {
     "data": {
      "image/png": "[encoded data removed]",
      "text/plain": [
       "<Figure size 432x288 with 2 Axes>"
      ]
     },
     "metadata": {
      "needs_background": "light"
     },
     "output_type": "display_data"
    }
   ],
   "source": [
    "df.hist(bins=50)"
   ]
  },
  {
   "cell_type": "code",
   "execution_count": 74,
   "metadata": {},
   "outputs": [
    {
     "name": "stdout",
     "output_type": "stream",
     "text": [
      "0.9782115224525187 2.005323517431742\n",
      "3.0010866910792227 1.9760563005877378\n"
     ]
    }
   ],
   "source": [
    "s_avg=df.s.mean()\n",
    "p_avg=df.p.mean()\n",
    "s_std=df.s.std()\n",
    "p_std=df.p.std()\n",
    "\n",
    "print(s_avg,s_std)\n",
    "print(p_avg,p_std)"
   ]
  },
  {
   "cell_type": "code",
   "execution_count": 77,
   "metadata": {},
   "outputs": [
    {
     "data": {
      "text/plain": [
       "0.8434533335480148"
      ]
     },
     "execution_count": 77,
     "metadata": {},
     "output_type": "execute_result"
    }
   ],
   "source": [
    "z=(p_avg-s_avg)/s_std\n",
    "st.norm.cdf(z)"
   ]
  },
  {
   "cell_type": "code",
   "execution_count": 78,
   "metadata": {},
   "outputs": [
    {
     "data": {
      "text/plain": [
       "0.15654666645198523"
      ]
     },
     "execution_count": 78,
     "metadata": {},
     "output_type": "execute_result"
    }
   ],
   "source": [
    "1-st.norm.cdf(z)"
   ]
  },
  {
   "cell_type": "code",
   "execution_count": null,
   "metadata": {},
   "outputs": [],
   "source": []
  },
  {
   "cell_type": "code",
   "execution_count": null,
   "metadata": {},
   "outputs": [],
   "source": []
  },
  {
   "cell_type": "code",
   "execution_count": null,
   "metadata": {},
   "outputs": [],
   "source": []
  },
  {
   "cell_type": "code",
   "execution_count": null,
   "metadata": {},
   "outputs": [],
   "source": []
  },
  {
   "cell_type": "code",
   "execution_count": 82,
   "metadata": {},
   "outputs": [
    {
     "name": "stdout",
     "output_type": "stream",
     "text": [
      "57.28 Fold\n"
     ]
    }
   ],
   "source": [
    "cards=52\n",
    "hands=2\n",
    "opponent_hands=2\n",
    "\n",
    "turn_cards=4\n",
    "cards=cards-hands-opponent_hands-turn_cards\n",
    "\n",
    "diamonds=13\n",
    "diamonds_drawn=4\n",
    "\n",
    "bad_diamonds=2\n",
    "outs=diamonds-diamonds_drawn-bad_diamonds\n",
    "\n",
    "win_proba=event_proba(outs,cards)\n",
    "\n",
    "pot=160\n",
    "call_amount=100\n",
    "\n",
    "ev=(pot+call_amount*2)*win_proba/100\n",
    "\n",
    "if ev>=call_amount:\n",
    "    print(round(ev,2),'Call')\n",
    "else:\n",
    "    print(round(ev,2),'Fold')"
   ]
  },
  {
   "cell_type": "code",
   "execution_count": 83,
   "metadata": {},
   "outputs": [
    {
     "data": {
      "text/plain": [
       "15.91"
      ]
     },
     "execution_count": 83,
     "metadata": {},
     "output_type": "execute_result"
    }
   ],
   "source": [
    "win_proba"
   ]
  }
 ],
 "metadata": {
  "kernelspec": {
   "display_name": "Python 3",
   "language": "python",
   "name": "python3"
  },
  "language_info": {
   "codemirror_mode": {
    "name": "ipython",
    "version": 3
   },
   "file_extension": ".py",
   "mimetype": "text/x-python",
   "name": "python",
   "nbconvert_exporter": "python",
   "pygments_lexer": "ipython3",
   "version": "3.6.8"
  }
 },
 "nbformat": 4,
 "nbformat_minor": 2
}
