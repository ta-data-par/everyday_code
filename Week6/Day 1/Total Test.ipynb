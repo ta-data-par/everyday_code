{
 "cells": [
  {
   "cell_type": "code",
   "execution_count": 1,
   "metadata": {},
   "outputs": [],
   "source": [
    "%matplotlib inline"
   ]
  },
  {
   "cell_type": "code",
   "execution_count": 130,
   "metadata": {},
   "outputs": [
    {
     "name": "stdout",
     "output_type": "stream",
     "text": [
      "                            OLS Regression Results                            \n",
      "==============================================================================\n",
      "Dep. Variable:                Lottery   R-squared:                       0.433\n",
      "Model:                            OLS   Adj. R-squared:                  0.412\n",
      "Method:                 Least Squares   F-statistic:                     20.85\n",
      "Date:                Mon, 17 Jun 2019   Prob (F-statistic):           3.93e-10\n",
      "Time:                        15:33:26   Log-Likelihood:                -373.87\n",
      "No. Observations:                  86   AIC:                             755.7\n",
      "Df Residuals:                      82   BIC:                             765.6\n",
      "Df Model:                           3                                         \n",
      "Covariance Type:            nonrobust                                         \n",
      "===================================================================================\n",
      "                      coef    std err          t      P>|t|      [0.025      0.975]\n",
      "-----------------------------------------------------------------------------------\n",
      "Intercept         169.4405     39.763      4.261      0.000      90.339     248.542\n",
      "Literacy           -0.3552      0.126     -2.824      0.006      -0.605      -0.105\n",
      "np.log(Pop1831)   -24.3055      5.960     -4.078      0.000     -36.161     -12.450\n",
      "np.log(Wealth)      8.7749      2.515      3.489      0.001       3.771      13.778\n",
      "==============================================================================\n",
      "Omnibus:                        7.273   Durbin-Watson:                   1.850\n",
      "Prob(Omnibus):                  0.026   Jarque-Bera (JB):                6.770\n",
      "Skew:                          -0.661   Prob(JB):                       0.0339\n",
      "Kurtosis:                       3.378   Cond. No.                         844.\n",
      "==============================================================================\n",
      "\n",
      "Warnings:\n",
      "[1] Standard Errors assume that the covariance matrix of the errors is correctly specified.\n"
     ]
    }
   ],
   "source": [
    "from statsmodels.compat import lzip\n",
    "\n",
    "import numpy as np\n",
    "import pandas as pd\n",
    "import statsmodels.formula.api as smf\n",
    "import statsmodels.stats.api as sms\n",
    "import matplotlib.pyplot as plt\n",
    "\n",
    "# Load data\n",
    "url = 'https://raw.githubusercontent.com/vincentarelbundock/Rdatasets/master/csv/HistData/Guerry.csv'\n",
    "dat = pd.read_csv(url)\n",
    "\n",
    "# Fit regression model (using the natural log of one of the regressors)\n",
    "results = smf.ols('Lottery ~ Literacy + np.log(Pop1831)+np.log(Wealth)', data=dat).fit()\n",
    "\n",
    "# Inspect the results\n",
    "print(results.summary())"
   ]
  },
  {
   "cell_type": "markdown",
   "metadata": {},
   "source": [
    "## What do we see here?\n",
    "\n",
    "1. P > |t| for all the variables is less than 0.05. That means that on 5% significance level all those variables are significant, so we can use them for modelling.\n",
    "2. Prob (F-statistic) is 0. That means that our model makes sense. If this value is higher than 0.05, our model doesnt make any sense even if p-values are good.\n",
    "3. Adj. R-squared is 41%, which means that the model explains 41% of variance. Not that bad. We can use the prediction and it will be not far from real value.\n",
    "4. AIC, BIC are around 760. When we built other models, we had those parameters being higher. That tells us that this model is better then others.\n",
    "5. Prob(JB)<0.05. That tells us that the residuals are normally distributed."
   ]
  },
  {
   "cell_type": "code",
   "execution_count": 131,
   "metadata": {},
   "outputs": [
    {
     "name": "stdout",
     "output_type": "stream",
     "text": [
      "Maximum value for Literacy 74\n",
      " \n",
      "Maximum value for Pop1831 989.94\n",
      " \n",
      "Last value for Literacy 49\n",
      " \n",
      "Mean value for Literacy 39.25581395348837\n",
      " \n",
      "Last value for Pop1831 195.41\n",
      " \n",
      "Mean value for Pop1831 378.62872093023265\n",
      " \n",
      "Last value for Wealth 37\n",
      " \n",
      "Mean value for Wealth 43.5\n",
      " \n",
      "Predicted with matrix multiplication  39.45767005402584\n",
      " \n"
     ]
    }
   ],
   "source": [
    "print('Maximum value for Literacy',dat.Literacy.max())\n",
    "print(\" \")\n",
    "\n",
    "print('Maximum value for Pop1831', dat.Pop1831.max())\n",
    "print(\" \")\n",
    "\n",
    "print('Last value for Literacy',dat.Literacy.iloc[-1])\n",
    "print(\" \")\n",
    "print('Mean value for Literacy',dat.Literacy.mean())\n",
    "lit=50\n",
    "print(\" \")\n",
    "\n",
    "print('Last value for Pop1831',dat.Pop1831.iloc[-1])\n",
    "print(\" \")\n",
    "print('Mean value for Pop1831',dat.Pop1831.mean())\n",
    "popu=400\n",
    "print(\" \")\n",
    "\n",
    "print('Last value for Wealth',dat.Wealth.iloc[-1])\n",
    "print(\" \")\n",
    "print('Mean value for Wealth',dat.Wealth.mean())\n",
    "we=45\n",
    "print(\" \")\n",
    "\n",
    "X=[1,lit,np.log(popu),np.log(we)]\n",
    "results.params\n",
    "\n",
    "print('Predicted with matrix multiplication ',np.dot(X,results.params))\n",
    "print(\" \")\n",
    "#print('Predicted after applying the formula by hand ',89.8137-0.4683*50-0.0738*400)"
   ]
  },
  {
   "cell_type": "markdown",
   "metadata": {},
   "source": [
    "### Conclusion\n",
    "\n",
    "We created new data point - literacy=50, pop1831=400 ans wealth=45. This data point is within our dataset (last values and means for all 3 variables are not far from new datapoint). Under these inputs we obtain the predicted value being equal to 39.46. "
   ]
  },
  {
   "cell_type": "code",
   "execution_count": 132,
   "metadata": {},
   "outputs": [],
   "source": [
    "def get_vif(exogs,data):\n",
    "    vif_array = np.array([])\n",
    "    tolerance_array = np.array([])\n",
    "\n",
    "    # create formula for each exogenous variable\n",
    "    for exog in exogs:\n",
    "        not_exog = [i for i in exogs if i != exog]\n",
    "        formula = f\"{exog} ~ {' + '.join(not_exog)}\"\n",
    "\n",
    "        # extract r-squared from the fit\n",
    "        r_squared = smf.ols(formula, data=data).fit().rsquared\n",
    "\n",
    "        # calculate VIF\n",
    "        vif = 1/(1-r_squared)\n",
    "        vif_array = np.append(vif_array, vif).round(2)\n",
    "\n",
    "        # calculate tolerance\n",
    "        tolerance = 1-r_squared\n",
    "        tolerance_array = np.append(tolerance_array, tolerance)\n",
    "\n",
    "    # return VIF DataFrame\n",
    "    df_vif = pd.DataFrame({'VIF': vif_array, 'Tolerance': tolerance_array},\n",
    "                          index=exogs)\n",
    "    return df_vif"
   ]
  },
  {
   "cell_type": "code",
   "execution_count": 134,
   "metadata": {},
   "outputs": [
    {
     "data": {
      "text/html": [
       "<div>\n",
       "<style scoped>\n",
       "    .dataframe tbody tr th:only-of-type {\n",
       "        vertical-align: middle;\n",
       "    }\n",
       "\n",
       "    .dataframe tbody tr th {\n",
       "        vertical-align: top;\n",
       "    }\n",
       "\n",
       "    .dataframe thead th {\n",
       "        text-align: right;\n",
       "    }\n",
       "</style>\n",
       "<table border=\"1\" class=\"dataframe\">\n",
       "  <thead>\n",
       "    <tr style=\"text-align: right;\">\n",
       "      <th></th>\n",
       "      <th>VIF</th>\n",
       "      <th>Tolerance</th>\n",
       "    </tr>\n",
       "  </thead>\n",
       "  <tbody>\n",
       "    <tr>\n",
       "      <th>Literacy</th>\n",
       "      <td>1.08</td>\n",
       "      <td>0.922234</td>\n",
       "    </tr>\n",
       "    <tr>\n",
       "      <th>np.log(Pop1831)</th>\n",
       "      <td>1.13</td>\n",
       "      <td>0.887135</td>\n",
       "    </tr>\n",
       "    <tr>\n",
       "      <th>Wealth</th>\n",
       "      <td>1.22</td>\n",
       "      <td>0.821975</td>\n",
       "    </tr>\n",
       "  </tbody>\n",
       "</table>\n",
       "</div>"
      ],
      "text/plain": [
       "                  VIF  Tolerance\n",
       "Literacy         1.08   0.922234\n",
       "np.log(Pop1831)  1.13   0.887135\n",
       "Wealth           1.22   0.821975"
      ]
     },
     "execution_count": 134,
     "metadata": {},
     "output_type": "execute_result"
    }
   ],
   "source": [
    "get_vif(['Literacy','np.log(Pop1831)','Wealth'],dat)"
   ]
  },
  {
   "cell_type": "markdown",
   "metadata": {},
   "source": [
    "### Conclusion\n",
    "\n",
    "We used the function that calculates the VIF and Tolerance for all variables that we used as inputs. \n",
    "\n",
    "Keeping in mind the thresholds(VIF<10, Tolerance>0.1) we conclude the absence of multicollinearity between variables."
   ]
  },
  {
   "cell_type": "code",
   "execution_count": 103,
   "metadata": {},
   "outputs": [
    {
     "data": {
      "text/plain": [
       "['Unnamed: 0',\n",
       " 'dept',\n",
       " 'Crime_pers',\n",
       " 'Crime_prop',\n",
       " 'Literacy',\n",
       " 'Donations',\n",
       " 'Infants',\n",
       " 'Suicides',\n",
       " 'Wealth',\n",
       " 'Commerce',\n",
       " 'Clergy',\n",
       " 'Crime_parents',\n",
       " 'Infanticide',\n",
       " 'Donation_clergy',\n",
       " 'Lottery',\n",
       " 'Desertion',\n",
       " 'Instruction',\n",
       " 'Prostitutes',\n",
       " 'Distance',\n",
       " 'Area',\n",
       " 'Pop1831']"
      ]
     },
     "execution_count": 103,
     "metadata": {},
     "output_type": "execute_result"
    }
   ],
   "source": [
    "# the way to obtain all numeric values from dataframe\n",
    "[i for i in dat._get_numeric_data()]"
   ]
  },
  {
   "cell_type": "markdown",
   "metadata": {},
   "source": [
    "# Normality of the residuals"
   ]
  },
  {
   "cell_type": "code",
   "execution_count": 106,
   "metadata": {},
   "outputs": [
    {
     "data": {
      "text/plain": [
       "[('Jarque-Bera', 6.769784165278749),\n",
       " ('Chi^2 two-tail prob.', 0.03388129852869973),\n",
       " ('Skew', -0.6607696441115144),\n",
       " ('Kurtosis', 3.3778571189204993)]"
      ]
     },
     "execution_count": 106,
     "metadata": {},
     "output_type": "execute_result"
    }
   ],
   "source": [
    "name = ['Jarque-Bera', 'Chi^2 two-tail prob.', 'Skew', 'Kurtosis']\n",
    "test = sms.jarque_bera(results.resid)\n",
    "lzip(name, test)"
   ]
  },
  {
   "cell_type": "markdown",
   "metadata": {},
   "source": [
    "### Conclusion\n",
    "\n",
    "Here we see that Chi^2 probability is less than 5%, which tells us that datapoints are normally distributed. They are good in terms of kurtosis, but a bit skewed to the right (negative skewness)"
   ]
  },
  {
   "cell_type": "code",
   "execution_count": 107,
   "metadata": {},
   "outputs": [
    {
     "data": {
      "text/plain": [
       "[<matplotlib.lines.Line2D at 0x26ea72f1c18>]"
      ]
     },
     "execution_count": 107,
     "metadata": {},
     "output_type": "execute_result"
    },
    {
     "data": {
      "image/png": "[encoded data removed]",
      "text/plain": [
       "<Figure size 432x288 with 1 Axes>"
      ]
     },
     "metadata": {
      "needs_background": "light"
     },
     "output_type": "display_data"
    }
   ],
   "source": [
    "plt.plot(results.resid)"
   ]
  },
  {
   "cell_type": "code",
   "execution_count": 117,
   "metadata": {},
   "outputs": [
    {
     "data": {
      "text/plain": [
       "17.30546430221837"
      ]
     },
     "execution_count": 117,
     "metadata": {},
     "output_type": "execute_result"
    }
   ],
   "source": [
    "results.resid.sample(40).std()"
   ]
  },
  {
   "cell_type": "code",
   "execution_count": 110,
   "metadata": {},
   "outputs": [
    {
     "data": {
      "text/plain": [
       "18.807551040598735"
      ]
     },
     "execution_count": 110,
     "metadata": {},
     "output_type": "execute_result"
    }
   ],
   "source": [
    "results.resid.std()"
   ]
  },
  {
   "cell_type": "code",
   "execution_count": 118,
   "metadata": {},
   "outputs": [
    {
     "data": {
      "text/plain": [
       "4.6433141569439106e-14"
      ]
     },
     "execution_count": 118,
     "metadata": {},
     "output_type": "execute_result"
    }
   ],
   "source": [
    "results.resid.mean()"
   ]
  },
  {
   "cell_type": "markdown",
   "metadata": {},
   "source": [
    "### Conclusion\n",
    "\n",
    "By calculating the sample std we figure out that samles have almost the same variance, which is around population variance. That tells us that variance of datapoints is constant. Datapoints variance doesnt depend on the values of Xs.\n",
    "\n",
    "The mean is equal to 0. So, residuals follow $N(0,\\sigma)$"
   ]
  },
  {
   "cell_type": "code",
   "execution_count": 127,
   "metadata": {},
   "outputs": [
    {
     "data": {
      "text/plain": [
       "[('Chi^2', 7.602436242961503), ('Two-tail probability', 0.022343538128788257)]"
      ]
     },
     "execution_count": 127,
     "metadata": {},
     "output_type": "execute_result"
    }
   ],
   "source": [
    "name = ['Chi^2', 'Two-tail probability']\n",
    "test = sms.omni_normtest(results.resid)\n",
    "lzip(name, test)"
   ]
  },
  {
   "cell_type": "markdown",
   "metadata": {},
   "source": [
    "Another test with same conclusion"
   ]
  },
  {
   "cell_type": "markdown",
   "metadata": {},
   "source": [
    "# Heteroskedasticity"
   ]
  },
  {
   "cell_type": "code",
   "execution_count": 90,
   "metadata": {},
   "outputs": [
    {
     "data": {
      "text/plain": [
       "[('Lagrange multiplier statistic', 3.6114028567110648),\n",
       " ('p-value', 0.16435912998095167),\n",
       " ('f-value', 1.819101474599113),\n",
       " ('f p-value', 0.16857736357589828)]"
      ]
     },
     "execution_count": 90,
     "metadata": {},
     "output_type": "execute_result"
    }
   ],
   "source": [
    "name = ['Lagrange multiplier statistic', 'p-value',\n",
    "        'f-value', 'f p-value']\n",
    "test = sms.het_breuschpagan(results.resid, results.model.exog)\n",
    "lzip(name, test)"
   ]
  },
  {
   "cell_type": "markdown",
   "metadata": {},
   "source": [
    "Datapoints are a heteroskedastic"
   ]
  },
  {
   "cell_type": "markdown",
   "metadata": {},
   "source": [
    "# Linearity\n",
    "Harvey-Collier multiplier test for Null hypothesis that the linear specification is correct:"
   ]
  },
  {
   "cell_type": "code",
   "execution_count": 122,
   "metadata": {},
   "outputs": [
    {
     "data": {
      "text/plain": [
       "[('t value', nan), ('p value', nan)]"
      ]
     },
     "execution_count": 122,
     "metadata": {},
     "output_type": "execute_result"
    }
   ],
   "source": [
    "name = ['t value', 'p value']\n",
    "test = sms.linear_harvey_collier(results)\n",
    "lzip(name, test)"
   ]
  },
  {
   "cell_type": "markdown",
   "metadata": {},
   "source": []
  },
  {
   "cell_type": "code",
   "execution_count": 120,
   "metadata": {},
   "outputs": [
    {
     "data": {
      "text/plain": [
       "<matplotlib.collections.PathCollection at 0x26ea738b5f8>"
      ]
     },
     "execution_count": 120,
     "metadata": {},
     "output_type": "execute_result"
    },
    {
     "data": {
      "image/png": "[encoded data removed]",
      "text/plain": [
       "<Figure size 432x288 with 1 Axes>"
      ]
     },
     "metadata": {
      "needs_background": "light"
     },
     "output_type": "display_data"
    }
   ],
   "source": [
    "plt.scatter(dat.Literacy,dat.Lottery)"
   ]
  }
 ],
 "metadata": {
  "kernelspec": {
   "display_name": "Python 3",
   "language": "python",
   "name": "python3"
  },
  "language_info": {
   "codemirror_mode": {
    "name": "ipython",
    "version": 3
   },
   "file_extension": ".py",
   "mimetype": "text/x-python",
   "name": "python",
   "nbconvert_exporter": "python",
   "pygments_lexer": "ipython3",
   "version": "3.6.8"
  }
 },
 "nbformat": 4,
 "nbformat_minor": 2
}
